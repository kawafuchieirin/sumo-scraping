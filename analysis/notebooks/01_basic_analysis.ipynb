{
 "cells": [
  {
   "cell_type": "markdown",
   "metadata": {},
   "source": [
    "# SUUMO データ基本分析\n",
    "\n",
    "このノートブックでは、スクレイピングしたSUUMOデータの基本的な分析を行います。\n",
    "\n",
    "## 目次\n",
    "1. データの読み込みと確認\n",
    "2. 基本統計情報\n",
    "3. 駅別分析\n",
    "4. 間取り別分析\n",
    "5. 築年数と賃料の関係\n",
    "6. お得物件の発見"
   ]
  },
  {
   "cell_type": "code",
   "execution_count": null,
   "metadata": {},
   "outputs": [],
   "source": [
    "# 必要なライブラリのインポート\n",
    "import sys\n",
    "import os\n",
    "sys.path.append('..')\n",
    "\n",
    "import pandas as pd\n",
    "import numpy as np\n",
    "import matplotlib.pyplot as plt\n",
    "import seaborn as sns\n",
    "import warnings\n",
    "warnings.filterwarnings('ignore')\n",
    "\n",
    "from analyzer import SuumoAnalyzer\n",
    "from visualizer import SuumoVisualizer\n",
    "\n",
    "# 表示設定\n",
    "pd.set_option('display.max_columns', None)\n",
    "pd.set_option('display.max_rows', 20)\n",
    "pd.set_option('display.width', None)\n",
    "\n",
    "# 日本語フォント設定\n",
    "plt.rcParams['font.family'] = ['DejaVu Sans', 'Hiragino Sans', 'Yu Gothic', 'Meiryo']\n",
    "\n",
    "print(\"📊 SUUMO データ分析ノートブック\")\n",
    "print(\"===============================\\n\")"
   ]
  },
  {
   "cell_type": "markdown",
   "metadata": {},
   "source": [
    "## 1. データの読み込みと確認"
   ]
  },
  {
   "cell_type": "code",
   "execution_count": null,
   "metadata": {},
   "outputs": [],
   "source": [
    "# データの読み込み\n",
    "print(\"🔄 データを読み込み中...\")\n",
    "analyzer = SuumoAnalyzer(data_path=\"../../data\", auto_load=True)\n",
    "\n",
    "if analyzer.df is not None:\n",
    "    print(f\"✅ データ読み込み完了: {len(analyzer.df)} 件\")\n",
    "    print(f\"📅 期間: {analyzer.df['scraped_at'].min()} 〜 {analyzer.df['scraped_at'].max()}\")\n",
    "else:\n",
    "    print(\"❌ データの読み込みに失敗しました\")"
   ]
  },
  {
   "cell_type": "code",
   "execution_count": null,
   "metadata": {},
   "outputs": [],
   "source": [
    "# データの基本情報\n",
    "print(\"📋 データ概要\")\n",
    "print(\"==============\")\n",
    "print(f\"行数: {len(analyzer.df):,}\")\n",
    "print(f\"列数: {len(analyzer.df.columns)}\")\n",
    "print(f\"\\n📊 カラム情報:\")\n",
    "analyzer.df.info()"
   ]
  },
  {
   "cell_type": "code",
   "execution_count": null,
   "metadata": {},
   "outputs": [],
   "source": [
    "# 最初の数行を確認\n",
    "print(\"👀 データサンプル:\")\n",
    "analyzer.df.head()"
   ]
  },
  {
   "cell_type": "markdown",
   "metadata": {},
   "source": [
    "## 2. 基本統計情報"
   ]
  },
  {
   "cell_type": "code",
   "execution_count": null,
   "metadata": {},
   "outputs": [],
   "source": [
    "# 基本統計情報の取得\n",
    "basic_stats = analyzer.get_basic_stats()\n",
    "\n",
    "print(\"📈 基本統計情報\")\n",
    "print(\"================\\n\")\n",
    "\n",
    "print(f\"🏠 総物件数: {basic_stats['total_properties']:,} 件\")\n",
    "print(f\"🚉 対象駅数: {basic_stats['stations']['count']} 駅\")\n",
    "print(f\"📍 対象駅: {', '.join(basic_stats['stations']['list'])}\")\n",
    "\n",
    "if 'rent' in basic_stats:\n",
    "    rent_stats = basic_stats['rent']\n",
    "    print(f\"\\n💰 賃料統計 (n={rent_stats['count']:,})\")\n",
    "    print(f\"   平均: {rent_stats['mean']:,.0f} 円\")\n",
    "    print(f\"   中央値: {rent_stats['median']:,.0f} 円\")\n",
    "    print(f\"   最小: {rent_stats['min']:,.0f} 円\")\n",
    "    print(f\"   最大: {rent_stats['max']:,.0f} 円\")\n",
    "    print(f\"   25%: {rent_stats['q25']:,.0f} 円\")\n",
    "    print(f\"   75%: {rent_stats['q75']:,.0f} 円\")\n",
    "\n",
    "if 'area' in basic_stats:\n",
    "    area_stats = basic_stats['area']\n",
    "    print(f\"\\n📐 面積統計 (n={area_stats['count']:,})\")\n",
    "    print(f\"   平均: {area_stats['mean']:.1f} ㎡\")\n",
    "    print(f\"   中央値: {area_stats['median']:.1f} ㎡\")\n",
    "    print(f\"   最小: {area_stats['min']:.1f} ㎡\")\n",
    "    print(f\"   最大: {area_stats['max']:.1f} ㎡\")\n",
    "\n",
    "if 'building_age' in basic_stats:\n",
    "    age_stats = basic_stats['building_age']\n",
    "    print(f\"\\n🏗️ 築年数統計 (n={age_stats['count']:,})\")\n",
    "    print(f\"   平均: {age_stats['mean']:.1f} 年\")\n",
    "    print(f\"   中央値: {age_stats['median']:.1f} 年\")\n",
    "    print(f\"   最小: {age_stats['min']:.0f} 年\")\n",
    "    print(f\"   最大: {age_stats['max']:.0f} 年\")"
   ]
  },
  {
   "cell_type": "code",
   "execution_count": null,
   "metadata": {},
   "outputs": [],
   "source": [
    "# 数値データの詳細統計\n",
    "numeric_columns = ['rent_numeric', 'area_numeric', 'building_age', 'rent_per_sqm']\n",
    "available_numeric = [col for col in numeric_columns if col in analyzer.df.columns]\n",
    "\n",
    "if available_numeric:\n",
    "    print(\"📊 数値データ統計:\")\n",
    "    analyzer.df[available_numeric].describe()"
   ]
  },
  {
   "cell_type": "markdown",
   "metadata": {},
   "source": [
    "## 3. 駅別分析"
   ]
  },
  {
   "cell_type": "code",
   "execution_count": null,
   "metadata": {},
   "outputs": [],
   "source": [
    "# 駅別分析\n",
    "try:\n",
    "    station_analysis = analyzer.analyze_rent_by_station()\n",
    "    print(\"🚉 駅別賃料分析\")\n",
    "    print(\"================\\n\")\n",
    "    \n",
    "    # 上位5駅\n",
    "    print(\"💰 賃料が高い駅 TOP5:\")\n",
    "    top_stations = station_analysis.nlargest(5, 'rent_numeric_mean')\n",
    "    for i, row in top_stations.iterrows():\n",
    "        print(f\"{row.name+1:2d}. {row['search_station']}: {row['rent_numeric_mean']:,.0f}円 (n={row['rent_numeric_count']})\")\n",
    "    \n",
    "    print(\"\\n💸 賃料が安い駅 TOP5:\")\n",
    "    bottom_stations = station_analysis.nsmallest(5, 'rent_numeric_mean')\n",
    "    for i, row in bottom_stations.iterrows():\n",
    "        print(f\"{i+1:2d}. {row['search_station']}: {row['rent_numeric_mean']:,.0f}円 (n={row['rent_numeric_count']})\")\n",
    "    \n",
    "    print(\"\\n📋 全駅統計:\")\n",
    "    display(station_analysis)\n",
    "    \n",
    "except Exception as e:\n",
    "    print(f\"❌ 駅別分析でエラー: {e}\")"
   ]
  },
  {
   "cell_type": "markdown",
   "metadata": {},
   "source": [
    "## 4. 間取り別分析"
   ]
  },
  {
   "cell_type": "code",
   "execution_count": null,
   "metadata": {},
   "outputs": [],
   "source": [
    "# 間取り別分析\n",
    "try:\n",
    "    layout_analysis = analyzer.analyze_layout_distribution()\n",
    "    print(\"🏠 間取り別分析\")\n",
    "    print(\"================\\n\")\n",
    "    \n",
    "    print(\"📊 間取り分布:\")\n",
    "    for i, row in layout_analysis.iterrows():\n",
    "        print(f\"{row['layout']}: {row['rent_numeric_count']}件 ({row['percentage']:.1f}%) - 平均{row['rent_numeric_mean']:,.0f}円\")\n",
    "    \n",
    "    print(\"\\n📋 詳細統計:\")\n",
    "    display(layout_analysis)\n",
    "    \n",
    "except Exception as e:\n",
    "    print(f\"❌ 間取り分析でエラー: {e}\")"
   ]
  },
  {
   "cell_type": "markdown",
   "metadata": {},
   "source": [
    "## 5. 築年数と賃料の関係"
   ]
  },
  {
   "cell_type": "code",
   "execution_count": null,
   "metadata": {},
   "outputs": [],
   "source": [
    "# 築年数分析\n",
    "try:\n",
    "    age_analysis = analyzer.analyze_age_impact()\n",
    "    print(\"🏗️ 築年数と賃料の関係\")\n",
    "    print(\"======================\\n\")\n",
    "    \n",
    "    print(\"📊 築年数カテゴリ別統計:\")\n",
    "    for i, row in age_analysis.iterrows():\n",
    "        rent_change = f\"({row['rent_vs_newest']:+.1f}%)\" if 'rent_vs_newest' in age_analysis.columns else \"\"\n",
    "        print(f\"{row['age_category']}: {row['rent_numeric_count']}件 - 平均{row['rent_numeric_mean']:,.0f}円 {rent_change}\")\n",
    "    \n",
    "    print(\"\\n📋 詳細統計:\")\n",
    "    display(age_analysis)\n",
    "    \n",
    "except Exception as e:\n",
    "    print(f\"❌ 築年数分析でエラー: {e}\")"
   ]
  },
  {
   "cell_type": "markdown",
   "metadata": {},
   "source": [
    "## 6. お得物件の発見"
   ]
  },
  {
   "cell_type": "code",
   "execution_count": null,
   "metadata": {},
   "outputs": [],
   "source": [
    "# お得物件分析\n",
    "try:\n",
    "    deals = analyzer.find_deals(\n",
    "        rent_percentile=30,  # 賃料下位30%\n",
    "        area_percentile=70,  # 面積上位30%\n",
    "        max_age=20           # 築20年以内\n",
    "    )\n",
    "    \n",
    "    print(\"💎 お得物件分析\")\n",
    "    print(\"================\\n\")\n",
    "    print(f\"🎯 検索条件:\")\n",
    "    print(f\"   - 賃料: 下位30%以下\")\n",
    "    print(f\"   - 面積: 上位30%以上\")\n",
    "    print(f\"   - 築年数: 20年以内\")\n",
    "    \n",
    "    if len(deals) > 0:\n",
    "        print(f\"\\n✨ 発見されたお得物件: {len(deals)}件\")\n",
    "        \n",
    "        print(\"\\n🏆 お得度TOP10:\")\n",
    "        top_deals = deals.head(10)\n",
    "        \n",
    "        display_columns = ['building_title', 'search_station', 'rent_numeric', 'area_numeric', 'building_age', 'layout']\n",
    "        available_columns = [col for col in display_columns if col in deals.columns]\n",
    "        \n",
    "        if 'deal_score' in deals.columns:\n",
    "            available_columns.append('deal_score')\n",
    "        \n",
    "        display(top_deals[available_columns])\n",
    "    else:\n",
    "        print(\"\\n😔 条件に合うお得物件は見つかりませんでした\")\n",
    "        \n",
    "except Exception as e:\n",
    "    print(f\"❌ お得物件分析でエラー: {e}\")"
   ]
  },
  {
   "cell_type": "markdown",
   "metadata": {},
   "source": [
    "## 7. 総合レポート生成"
   ]
  },
  {
   "cell_type": "code",
   "execution_count": null,
   "metadata": {},
   "outputs": [],
   "source": [
    "# 総合分析レポート\n",
    "try:\n",
    "    print(\"📋 総合分析レポート生成中...\")\n",
    "    summary_report = analyzer.generate_summary_report()\n",
    "    \n",
    "    print(\"\\n🔍 主要インサイト:\")\n",
    "    print(\"==================\")\n",
    "    \n",
    "    for i, insight in enumerate(summary_report.get('insights', []), 1):\n",
    "        print(f\"{i}. {insight}\")\n",
    "    \n",
    "    # レポートを保存\n",
    "    report_path = analyzer.export_analysis_results()\n",
    "    print(f\"\\n💾 分析結果を保存しました: {report_path}\")\n",
    "    \n",
    "except Exception as e:\n",
    "    print(f\"❌ レポート生成でエラー: {e}\")"
   ]
  },
  {
   "cell_type": "markdown",
   "metadata": {},
   "source": [
    "## 次のステップ\n",
    "\n",
    "この基本分析の結果を踏まえて、以下の分析も実行できます：\n",
    "\n",
    "1. **詳細可視化**: `02_visualization.ipynb` で各種グラフとチャートを生成\n",
    "2. **比較分析**: `03_station_comparison.ipynb` で特定駅間の詳細比較\n",
    "3. **予測モデル**: `04_price_prediction.ipynb` で賃料予測モデルの構築\n",
    "\n",
    "これらのノートブックを順次実行して、より詳細な分析を行ってください。"
   ]
  }
 ],
 "metadata": {
  "kernelspec": {
   "display_name": "Python 3",
   "language": "python",
   "name": "python3"
  },
  "language_info": {
   "codemirror_mode": {
    "name": "ipython",
    "version": 3
   },
   "file_extension": ".py",
   "mimetype": "text/x-python",
   "name": "python",
   "nbconvert_exporter": "python",
   "pygments_lexer": "ipython3",
   "version": "3.9.0"
  }
 },
 "nbformat": 4,
 "nbformat_minor": 4
}