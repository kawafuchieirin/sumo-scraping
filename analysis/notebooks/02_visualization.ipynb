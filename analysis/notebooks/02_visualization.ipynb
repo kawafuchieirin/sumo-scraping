{
 "cells": [
  {
   "cell_type": "markdown",
   "metadata": {},
   "source": [
    "# SUUMO データ可視化\n",
    "\n",
    "このノートブックでは、スクレイピングしたSUUMOデータの可視化を行います。\n",
    "\n",
    "## 目次\n",
    "1. ライブラリの準備とデータ読み込み\n",
    "2. 賃料分布の可視化\n",
    "3. 駅別分析の可視化\n",
    "4. 面積と賃料の関係\n",
    "5. 間取り分布\n",
    "6. 築年数の影響\n",
    "7. ヒートマップ分析\n",
    "8. 総合ダッシュボード"
   ]
  },
  {
   "cell_type": "code",
   "execution_count": null,
   "metadata": {},
   "outputs": [],
   "source": [
    "# 必要なライブラリのインポート\n",
    "import sys\n",
    "import os\n",
    "sys.path.append('..')\n",
    "\n",
    "import pandas as pd\n",
    "import numpy as np\n",
    "import matplotlib.pyplot as plt\n",
    "import seaborn as sns\n",
    "import plotly.express as px\n",
    "import plotly.graph_objects as go\n",
    "from plotly.subplots import make_subplots\n",
    "import warnings\n",
    "warnings.filterwarnings('ignore')\n",
    "\n",
    "from analyzer import SuumoAnalyzer\n",
    "from visualizer import SuumoVisualizer\n",
    "\n",
    "# 日本語フォント設定\n",
    "plt.rcParams['font.family'] = ['DejaVu Sans', 'Hiragino Sans', 'Yu Gothic', 'Meiryo']\n",
    "sns.set_style(\"whitegrid\")\n",
    "sns.set_palette(\"husl\")\n",
    "\n",
    "# Plotlyの設定\n",
    "import plotly.io as pio\n",
    "pio.renderers.default = \"notebook\"\n",
    "\n",
    "print(\"📊 SUUMO データ可視化ノートブック\")\n",
    "print(\"=================================\\n\")"
   ]
  },
  {
   "cell_type": "markdown",
   "metadata": {},
   "source": [
    "## 1. ライブラリの準備とデータ読み込み"
   ]
  },
  {
   "cell_type": "code",
   "execution_count": null,
   "metadata": {},
   "outputs": [],
   "source": [
    "# データの読み込み\n",
    "print(\"🔄 データを読み込み中...\")\n",
    "analyzer = SuumoAnalyzer(data_path=\"../../data\", auto_load=True)\n",
    "\n",
    "if analyzer.df is not None:\n",
    "    print(f\"✅ データ読み込み完了: {len(analyzer.df)} 件\")\n",
    "    \n",
    "    # 可視化器の初期化\n",
    "    visualizer = SuumoVisualizer(analyzer.df, output_dir=\"../visualizations\")\n",
    "    print(\"🎨 可視化器の初期化完了\")\n",
    "else:\n",
    "    print(\"❌ データの読み込みに失敗しました\")\n",
    "    raise ValueError(\"データが読み込めませんでした\")"
   ]
  },
  {
   "cell_type": "code",
   "execution_count": null,
   "metadata": {},
   "outputs": [],
   "source": [
    "# データ概要の確認\n",
    "print(\"📋 データ概要:\")\n",
    "print(f\"   行数: {len(analyzer.df):,}\")\n",
    "print(f\"   列数: {len(analyzer.df.columns)}\")\n",
    "\n",
    "if 'search_station' in analyzer.df.columns:\n",
    "    stations = analyzer.df['search_station'].unique()\n",
    "    print(f\"   対象駅: {', '.join(stations)}\")\n",
    "\n",
    "# 使用可能な数値カラムの確認\n",
    "numeric_cols = analyzer.df.select_dtypes(include=[np.number]).columns.tolist()\n",
    "print(f\"   数値カラム: {', '.join(numeric_cols)}\")"
   ]
  },
  {
   "cell_type": "markdown",
   "metadata": {},
   "source": [
    "## 2. 賃料分布の可視化"
   ]
  },
  {
   "cell_type": "code",
   "execution_count": null,
   "metadata": {},
   "outputs": [],
   "source": [
    "# 全体の賃料分布\n",
    "print(\"💰 賃料分布ヒストグラム\")\n",
    "fig1 = visualizer.plot_rent_distribution(by_station=False, save=False)\n",
    "fig1.show()"
   ]
  },
  {
   "cell_type": "code",
   "execution_count": null,
   "metadata": {},
   "outputs": [],
   "source": [
    "# 駅別賃料分布\n",
    "if 'search_station' in analyzer.df.columns:\n",
    "    print(\"🚉 駅別賃料分布\")\n",
    "    fig2 = visualizer.plot_rent_distribution(by_station=True, save=False)\n",
    "    fig2.show()\n",
    "else:\n",
    "    print(\"⚠️ 駅情報が利用できません\")"
   ]
  },
  {
   "cell_type": "markdown",
   "metadata": {},
   "source": [
    "## 3. 駅別分析の可視化"
   ]
  },
  {
   "cell_type": "code",
   "execution_count": null,
   "metadata": {},
   "outputs": [],
   "source": [
    "# 駅別賃料ボックスプロット\n",
    "if 'search_station' in analyzer.df.columns and 'rent_numeric' in analyzer.df.columns:\n",
    "    print(\"📊 駅別賃料ボックスプロット\")\n",
    "    fig3 = visualizer.plot_rent_by_station(save=False)\n",
    "    fig3.show()\n",
    "else:\n",
    "    print(\"⚠️ 駅別賃料分析に必要なデータが不足しています\")"
   ]
  },
  {
   "cell_type": "code",
   "execution_count": null,
   "metadata": {},
   "outputs": [],
   "source": [
    "# 駅別平米単価比較\n",
    "if 'search_station' in analyzer.df.columns and 'rent_per_sqm' in analyzer.df.columns:\n",
    "    print(\"💹 駅別平米単価比較\")\n",
    "    fig4 = visualizer.plot_rent_per_sqm_by_station(save=False)\n",
    "    fig4.show()\n",
    "else:\n",
    "    print(\"⚠️ 平米単価データが利用できません\")"
   ]
  },
  {
   "cell_type": "markdown",
   "metadata": {},
   "source": [
    "## 4. 面積と賃料の関係"
   ]
  },
  {
   "cell_type": "code",
   "execution_count": null,
   "metadata": {},
   "outputs": [],
   "source": [
    "# 面積と賃料の散布図（間取り別）\n",
    "if 'area_numeric' in analyzer.df.columns and 'rent_numeric' in analyzer.df.columns:\n",
    "    print(\"📐 面積と賃料の関係（間取り別）\")\n",
    "    fig5 = visualizer.plot_area_vs_rent(color_by='layout', save=False)\n",
    "    fig5.show()\n",
    "else:\n",
    "    print(\"⚠️ 面積または賃料データが利用できません\")"
   ]
  },
  {
   "cell_type": "code",
   "execution_count": null,
   "metadata": {},
   "outputs": [],
   "source": [
    "# 面積と賃料の散布図（駅別）\n",
    "if 'area_numeric' in analyzer.df.columns and 'rent_numeric' in analyzer.df.columns and 'search_station' in analyzer.df.columns:\n",
    "    print(\"🚉 面積と賃料の関係（駅別）\")\n",
    "    fig6 = visualizer.plot_area_vs_rent(color_by='search_station', save=False)\n",
    "    fig6.show()\n",
    "else:\n",
    "    print(\"⚠️ 必要なデータが利用できません\")"
   ]
  },
  {
   "cell_type": "markdown",
   "metadata": {},
   "source": [
    "## 5. 間取り分布"
   ]
  },
  {
   "cell_type": "code",
   "execution_count": null,
   "metadata": {},
   "outputs": [],
   "source": [
    "# 間取り分布円グラフ\n",
    "if 'layout' in analyzer.df.columns:\n",
    "    print(\"🏠 間取り分布\")\n",
    "    fig7 = visualizer.plot_layout_distribution(save=False)\n",
    "    fig7.show()\n",
    "    \n",
    "    # 間取り別統計も表示\n",
    "    print(\"\\n📊 間取り別統計:\")\n",
    "    layout_stats = analyzer.df.groupby('layout').agg({\n",
    "        'rent_numeric': ['count', 'mean', 'median'],\n",
    "        'area_numeric': 'mean'\n",
    "    }).round(2)\n",
    "    \n",
    "    layout_stats.columns = ['件数', '平均賃料', '中央値賃料', '平均面積']\n",
    "    layout_stats = layout_stats.sort_values('件数', ascending=False)\n",
    "    display(layout_stats)\n",
    "else:\n",
    "    print(\"⚠️ 間取りデータが利用できません\")"
   ]
  },
  {
   "cell_type": "markdown",
   "metadata": {},
   "source": [
    "## 6. 築年数の影響"
   ]
  },
  {
   "cell_type": "code",
   "execution_count": null,
   "metadata": {},
   "outputs": [],
   "source": [
    "# 築年数と賃料の関係\n",
    "if 'building_age' in analyzer.df.columns and 'rent_numeric' in analyzer.df.columns:\n",
    "    print(\"🏗️ 築年数と賃料の関係\")\n",
    "    fig8 = visualizer.plot_age_vs_rent(save=False)\n",
    "    fig8.show()\n",
    "else:\n",
    "    print(\"⚠️ 築年数または賃料データが利用できません\")"
   ]
  },
  {
   "cell_type": "code",
   "execution_count": null,
   "metadata": {},
   "outputs": [],
   "source": [
    "# 築年数カテゴリ別分析\n",
    "if 'age_category' in analyzer.df.columns:\n",
    "    print(\"📊 築年数カテゴリ別分析\")\n",
    "    \n",
    "    # カテゴリ別ボックスプロット\n",
    "    fig_age = px.box(\n",
    "        analyzer.df,\n",
    "        x='age_category',\n",
    "        y='rent_numeric',\n",
    "        title='築年数カテゴリ別賃料分布',\n",
    "        labels={'age_category': '築年数カテゴリ', 'rent_numeric': '賃料 (円)'}\n",
    "    )\n",
    "    fig_age.update_layout(title_x=0.5, xaxis_tickangle=-45)\n",
    "    fig_age.show()\n",
    "else:\n",
    "    print(\"⚠️ 築年数カテゴリが作成されていません\")"
   ]
  },
  {
   "cell_type": "markdown",
   "metadata": {},
   "source": [
    "## 7. ヒートマップ分析"
   ]
  },
  {
   "cell_type": "code",
   "execution_count": null,
   "metadata": {},
   "outputs": [],
   "source": [
    "# 駅×間取りヒートマップ\n",
    "if 'search_station' in analyzer.df.columns and 'layout' in analyzer.df.columns:\n",
    "    print(\"🔥 駅×間取り物件数ヒートマップ\")\n",
    "    fig9 = visualizer.plot_heatmap_station_layout(save=False)\n",
    "    fig9.show()\n",
    "else:\n",
    "    print(\"⚠️ 駅または間取りデータが利用できません\")"
   ]
  },
  {
   "cell_type": "code",
   "execution_count": null,
   "metadata": {},
   "outputs": [],
   "source": [
    "# 価格帯分布（駅別スタックドバー）\n",
    "if 'search_station' in analyzer.df.columns and 'rent_range' in analyzer.df.columns:\n",
    "    print(\"💰 駅別価格帯分布\")\n",
    "    fig10 = visualizer.plot_price_range_distribution(save=False)\n",
    "    fig10.show()\n",
    "else:\n",
    "    print(\"⚠️ 価格帯データが利用できません\")"
   ]
  },
  {
   "cell_type": "markdown",
   "metadata": {},
   "source": [
    "## 8. 相関分析"
   ]
  },
  {
   "cell_type": "code",
   "execution_count": null,
   "metadata": {},
   "outputs": [],
   "source": [
    "# 数値変数間の相関分析\n",
    "numeric_cols = ['rent_numeric', 'area_numeric', 'building_age', 'rent_per_sqm']\n",
    "available_cols = [col for col in numeric_cols if col in analyzer.df.columns]\n",
    "\n",
    "if len(available_cols) >= 2:\n",
    "    print(\"🔗 数値変数間の相関分析\")\n",
    "    \n",
    "    # 相関マトリックス計算\n",
    "    corr_matrix = analyzer.df[available_cols].corr()\n",
    "    \n",
    "    # ヒートマップ作成\n",
    "    fig_corr = px.imshow(\n",
    "        corr_matrix,\n",
    "        title='変数間相関マトリックス',\n",
    "        color_continuous_scale='RdBu',\n",
    "        aspect='auto',\n",
    "        text_auto='.2f'\n",
    "    )\n",
    "    fig_corr.update_layout(title_x=0.5)\n",
    "    fig_corr.show()\n",
    "    \n",
    "    print(\"\\n📊 相関係数マトリックス:\")\n",
    "    display(corr_matrix.round(3))\n",
    "else:\n",
    "    print(\"⚠️ 相関分析に必要な数値データが不足しています\")"
   ]
  },
  {
   "cell_type": "markdown",
   "metadata": {},
   "source": [
    "## 9. 総合ダッシュボード"
   ]
  },
  {
   "cell_type": "code",
   "execution_count": null,
   "metadata": {},
   "outputs": [],
   "source": [
    "# 総合ダッシュボード\n",
    "print(\"🎯 総合ダッシュボード\")\n",
    "fig11 = visualizer.plot_comprehensive_dashboard(save=False)\n",
    "fig11.show()"
   ]
  },
  {
   "cell_type": "markdown",
   "metadata": {},
   "source": [
    "## 10. カスタム分析"
   ]
  },
  {
   "cell_type": "code",
   "execution_count": null,
   "metadata": {},
   "outputs": [],
   "source": [
    "# お得物件の可視化\n",
    "if 'rent_per_sqm' in analyzer.df.columns and 'area_numeric' in analyzer.df.columns:\n",
    "    print(\"💎 お得物件分析\")\n",
    "    \n",
    "    # お得度スコアを計算（簡易版）\n",
    "    df_copy = analyzer.df.copy()\n",
    "    \n",
    "    # 正規化スコア計算\n",
    "    df_copy['area_score'] = df_copy['area_numeric'] / df_copy['area_numeric'].mean()\n",
    "    df_copy['price_score'] = 1 - (df_copy['rent_per_sqm'] / df_copy['rent_per_sqm'].mean())\n",
    "    \n",
    "    if 'building_age' in df_copy.columns:\n",
    "        df_copy['age_score'] = 1 - (df_copy['building_age'] / df_copy['building_age'].max())\n",
    "        df_copy['deal_score'] = (df_copy['area_score'] * 0.4 + \n",
    "                                df_copy['price_score'] * 0.4 + \n",
    "                                df_copy['age_score'] * 0.2)\n",
    "    else:\n",
    "        df_copy['deal_score'] = (df_copy['area_score'] * 0.5 + \n",
    "                                df_copy['price_score'] * 0.5)\n",
    "    \n",
    "    # 散布図でお得度を可視化\n",
    "    fig_deal = px.scatter(\n",
    "        df_copy,\n",
    "        x='area_numeric',\n",
    "        y='rent_numeric',\n",
    "        color='deal_score',\n",
    "        size='deal_score',\n",
    "        title='お得物件分析（面積 vs 賃料 + お得度スコア）',\n",
    "        labels={'area_numeric': '面積 (㎡)', 'rent_numeric': '賃料 (円)', 'deal_score': 'お得度スコア'},\n",
    "        color_continuous_scale='Viridis',\n",
    "        hover_data=['building_title'] if 'building_title' in df_copy.columns else None\n",
    "    )\n",
    "    fig_deal.update_layout(title_x=0.5)\n",
    "    fig_deal.show()\n",
    "    \n",
    "    # TOP10お得物件\n",
    "    top_deals = df_copy.nlargest(10, 'deal_score')\n",
    "    print(\"\\n🏆 お得度TOP10:\")\n",
    "    \n",
    "    display_cols = ['building_title', 'search_station', 'rent_numeric', 'area_numeric', 'deal_score']\n",
    "    available_display_cols = [col for col in display_cols if col in top_deals.columns]\n",
    "    \n",
    "    if available_display_cols:\n",
    "        display(top_deals[available_display_cols].round(3))\n",
    "else:\n",
    "    print(\"⚠️ お得物件分析に必要なデータが不足しています\")"
   ]
  },
  {
   "cell_type": "markdown",
   "metadata": {},
   "source": [
    "## 11. 全ての可視化を保存"
   ]
  },
  {
   "cell_type": "code",
   "execution_count": null,
   "metadata": {},
   "outputs": [],
   "source": [
    "# 全ての可視化をファイルに保存\n",
    "print(\"💾 全ての可視化を保存中...\")\n",
    "try:\n",
    "    generated_files = visualizer.generate_all_visualizations()\n",
    "    \n",
    "    print(\"\\n✅ 保存完了:\")\n",
    "    for key, description in generated_files.items():\n",
    "        print(f\"   📊 {description}\")\n",
    "    \n",
    "    print(f\"\\n📂 保存先: {visualizer.output_dir}\")\n",
    "    print(\"\\n💡 生成されたHTMLファイルをブラウザで開いてインタラクティブな可視化をお楽しみください！\")\n",
    "    \n",
    "except Exception as e:\n",
    "    print(f\"❌ 保存中にエラーが発生しました: {e}\")"
   ]
  },
  {
   "cell_type": "markdown",
   "metadata": {},
   "source": [
    "## まとめ\n",
    "\n",
    "この可視化ノートブックでは、以下の分析を行いました：\n",
    "\n",
    "### 📊 実行した可視化\n",
    "1. **賃料分布**: 全体および駅別の賃料ヒストグラム\n",
    "2. **駅別分析**: ボックスプロットと平米単価比較\n",
    "3. **面積vs賃料**: 間取り別・駅別の散布図\n",
    "4. **間取り分布**: 円グラフと統計表\n",
    "5. **築年数影響**: 築年数と賃料の関係性\n",
    "6. **ヒートマップ**: 駅×間取りの物件数分布\n",
    "7. **相関分析**: 数値変数間の相関マトリックス\n",
    "8. **総合ダッシュボード**: 複数の可視化を統合\n",
    "9. **お得物件分析**: スコアベースの物件評価\n",
    "\n",
    "### 🎯 次のステップ\n",
    "- **特定駅の詳細分析**: `03_station_comparison.ipynb`\n",
    "- **予測モデル構築**: `04_price_prediction.ipynb`\n",
    "- **地理的分析**: 地図上での物件分布（将来の拡張）\n",
    "\n",
    "### 💾 出力ファイル\n",
    "全ての可視化は `analysis/visualizations/` ディレクトリに保存されています。HTMLファイルはブラウザで開いてインタラクティブに操作できます。"
   ]
  }
 ],
 "metadata": {
  "kernelspec": {
   "display_name": "Python 3",
   "language": "python",
   "name": "python3"
  },
  "language_info": {
   "codemirror_mode": {
    "name": "ipython",
    "version": 3
   },
   "file_extension": ".py",
   "mimetype": "text/x-python",
   "name": "python",
   "nbconvert_exporter": "python",
   "pygments_lexer": "ipython3",
   "version": "3.9.0"
  }
 },
 "nbformat": 4,
 "nbformat_minor": 4
}